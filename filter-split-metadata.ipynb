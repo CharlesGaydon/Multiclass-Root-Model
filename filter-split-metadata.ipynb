{
 "cells": [
  {
   "cell_type": "code",
   "execution_count": 12,
   "metadata": {},
   "outputs": [],
   "source": [
    "import tempfile\n",
    "import geopandas as gpd\n",
    "gdf_path = \"/mnt/store-lidarhd/projet-LHD/IA/BDForet/Data/PureForestID/metadata/PureForestID-patches.gpkg\"\n",
    "# gdf_test_path = \"/mnt/store-lidarhd/projet-LHD/IA/Analyses/20231102_foret_analyses_predictions/PureForestID-test-patches.gpkg\"\n",
    "# gdf_val_path = \"/mnt/store-lidarhd/projet-LHD/IA/Analyses/20231102_foret_analyses_predictions/PureForestID-val-patches.gpkg\"\n",
    "gdf = gpd.read_file(gdf_path)"
   ]
  },
  {
   "cell_type": "code",
   "execution_count": 18,
   "metadata": {},
   "outputs": [
    {
     "name": "stdout",
     "output_type": "stream",
     "text": [
      "(22848, 27)\n",
      "(19463, 27)\n"
     ]
    }
   ],
   "source": [
    "test = gdf[gdf.split == \"test\"]\n",
    "print(test.shape)\n",
    "test.to_file(\"./PureForestID-test-patches.gpkg\")\n",
    "\n",
    "val = gdf[gdf.split == \"val\"]\n",
    "print(val.shape)\n",
    "val.to_file(\"./PureForestID-val-patches.gpkg\")\n"
   ]
  }
 ],
 "metadata": {
  "kernelspec": {
   "display_name": "lidar_prod",
   "language": "python",
   "name": "python3"
  },
  "language_info": {
   "codemirror_mode": {
    "name": "ipython",
    "version": 3
   },
   "file_extension": ".py",
   "mimetype": "text/x-python",
   "name": "python",
   "nbconvert_exporter": "python",
   "pygments_lexer": "ipython3",
   "version": "3.9.18"
  }
 },
 "nbformat": 4,
 "nbformat_minor": 2
}
