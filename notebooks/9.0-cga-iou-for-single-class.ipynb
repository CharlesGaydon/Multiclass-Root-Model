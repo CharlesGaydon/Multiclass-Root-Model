{
 "cells": [
  {
   "cell_type": "code",
   "execution_count": 7,
   "metadata": {},
   "outputs": [
    {
     "name": "stderr",
     "output_type": "stream",
     "text": [
      "/tmp/ipykernel_56591/1364576794.py:4: UserWarning: To copy construct from a tensor, it is recommended to use sourceTensor.clone().detach() or sourceTensor.clone().detach().requires_grad_(True), rather than torch.tensor(sourceTensor).\n",
      "  pred = torch.tensor(target)\n"
     ]
    }
   ],
   "source": [
    "import torch\n",
    "target = torch.randint(0, 10, (1000,), )\n",
    "target  = 1 * (target == 9)\n",
    "pred = torch.tensor(target)\n",
    "pred[9:15] = 1 - pred[9:15]\n"
   ]
  },
  {
   "cell_type": "code",
   "execution_count": 9,
   "metadata": {},
   "outputs": [],
   "source": [
    "from typing import Optional, Any\n",
    "from torch import Tensor\n",
    "from torchmetrics import IoU\n",
    "from torchmetrics.functional.classification.iou import _iou_from_confmat\n",
    "\n",
    "class BuildingsIoU(IoU):\n",
    "    \"\"\" Custom IoU metrics to log building IoU only using PytorchLighting log system. \"\"\"\n",
    "    def __init__(\n",
    "        self,\n",
    "        compute_on_step: bool = True,\n",
    "        dist_sync_on_step: bool = False,\n",
    "        process_group: Optional[Any] = None,\n",
    "        ) -> None:\n",
    "        super().__init__(\n",
    "            num_classes=2,\n",
    "            threshold=0.5,\n",
    "            reduction = \"none\",\n",
    "            absent_score = 1.0,\n",
    "            compute_on_step=compute_on_step,\n",
    "            dist_sync_on_step=dist_sync_on_step,\n",
    "            process_group=process_group,\n",
    "        )\n",
    "        \n",
    "\n",
    "    def compute(self) -> Tensor:\n",
    "        \"\"\"Computes intersection over union (IoU)\"\"\"\n",
    "        iou_no_reduction = _iou_from_confmat(self.confmat, self.num_classes, self.ignore_index, self.absent_score, self.reduction)\n",
    "        iou_building = iou_no_reduction[1] \n",
    "        return iou_building"
   ]
  },
  {
   "cell_type": "code",
   "execution_count": 10,
   "metadata": {},
   "outputs": [
    {
     "data": {
      "text/plain": [
       "tensor(0.9412)"
      ]
     },
     "execution_count": 10,
     "metadata": {},
     "output_type": "execute_result"
    }
   ],
   "source": [
    "# ignore index functionnaly ignore the rows where class is 0 even if we predict 1 for them...\n",
    "train_iou = BuildingsIoU()\n",
    "train_iou(pred, target)"
   ]
  },
  {
   "cell_type": "code",
   "execution_count": 11,
   "metadata": {},
   "outputs": [
    {
     "data": {
      "text/plain": [
       "tensor([0.9934, 0.9412])"
      ]
     },
     "execution_count": 11,
     "metadata": {},
     "output_type": "execute_result"
    }
   ],
   "source": [
    "# ignore index functionnaly ignore the rows where class is 0 even if we predict 1 for them...\n",
    "train_iou = IoU(2, reduction=\"none\", absent_score=1.0)\n",
    "train_iou(pred, target)"
   ]
  },
  {
   "cell_type": "code",
   "execution_count": 34,
   "metadata": {},
   "outputs": [
    {
     "data": {
      "text/plain": [
       "tensor(0.7846)"
      ]
     },
     "execution_count": 34,
     "metadata": {},
     "output_type": "execute_result"
    }
   ],
   "source": [
    "train_iou = IoU(2, reduction=\"elementwise_mean\", absent_score=1.0)\n",
    "train_iou(pred, target)"
   ]
  },
  {
   "cell_type": "code",
   "execution_count": 10,
   "metadata": {},
   "outputs": [
    {
     "data": {
      "text/plain": [
       "torch.Size([10, 25, 25])"
      ]
     },
     "execution_count": 10,
     "metadata": {},
     "output_type": "execute_result"
    }
   ],
   "source": [
    "target.shape"
   ]
  }
 ],
 "metadata": {
  "interpreter": {
   "hash": "4f3909b2e75569dc8b2b34caf098ca3ee0f42a2662257ad318d68379d9358cf1"
  },
  "kernelspec": {
   "display_name": "Python 3.9.0 64-bit ('working_copy': conda)",
   "name": "python3"
  },
  "language_info": {
   "codemirror_mode": {
    "name": "ipython",
    "version": 3
   },
   "file_extension": ".py",
   "mimetype": "text/x-python",
   "name": "python",
   "nbconvert_exporter": "python",
   "pygments_lexer": "ipython3",
   "version": "3.9.0"
  },
  "orig_nbformat": 4
 },
 "nbformat": 4,
 "nbformat_minor": 2
}
