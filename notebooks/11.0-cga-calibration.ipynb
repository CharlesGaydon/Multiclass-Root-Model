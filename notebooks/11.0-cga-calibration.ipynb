{
    "cells": [
        {
            "cell_type": "code",
            "execution_count": 1,
            "metadata": {},
            "outputs": [],
            "source": [
                "import sys\n",
                "sys.path.append(\"..\")\n",
                "from semantic_val.datamodules.processing import MakeBuildingTargets\n",
                "import laspy\n",
                "import glob\n",
                "import numpy as np\n",
                "import matplotlib.pyplot as plt\n",
                "from sklearn.calibration import calibration_curve\n"
            ]
        },
        {
            "cell_type": "code",
            "execution_count": 2,
            "metadata": {},
            "outputs": [],
            "source": [
                "las_dir = \"/var/data/cgaydon/data/202110_building_val/logs/runs/2021-11-15/16-27-19/validation_preds/\"\n",
                "make_targets = MakeBuildingTargets()\n",
                "target_list = []\n",
                "proba_list = []\n",
                "for filepath in glob.glob(las_dir + \"*.las\"):\n",
                "    las = laspy.read(filepath)\n",
                "    target = {\"y\":las.classification.copy()}\n",
                "    target_list.append(make_targets(target, keys = \"y\")[\"y\"])\n",
                "    proba_list.append(las[\"BuildingsProba\"])\n",
                "targets = np.concatenate(target_list)\n",
                "probas = np.concatenate(proba_list)"
            ]
        },
        {
            "cell_type": "code",
            "execution_count": 39,
            "metadata": {},
            "outputs": [],
            "source": [
                "prob_true, prob_pred = calibration_curve(targets, probas, n_bins=100, strategy=\"uniform\")  # 47 seconds"
            ]
        },
        {
            "cell_type": "code",
            "execution_count": 47,
            "metadata": {},
            "outputs": [
                {
                    "name": "stdout",
                    "output_type": "stream",
                    "text": [
                        "0.15290264779378376 0.20832813821592475 0.05708677870146985 0.25903867205233444\n"
                    ]
                }
            ],
            "source": [
                "ECE = np.mean(np.abs(prob_true - prob_pred))\n",
                "lower = prob_pred < 0.5\n",
                "lower_ECE = np.mean(np.abs(prob_true[lower] - prob_pred[lower]))\n",
                "middle = (prob_pred>=0.5) & (prob_pred<0.9)\n",
                "middle_ECE = np.mean(np.abs(prob_true[middle] - prob_pred[middle]))\n",
                "higher = prob_pred >=0.9\n",
                "higher_ECE = np.mean(np.abs(prob_true[higher] - prob_pred[higher]))\n",
                "print(ECE, lower_ECE, middle_ECE, higher_ECE)"
            ]
        },
        {
            "cell_type": "code",
            "execution_count": 41,
            "metadata": {},
            "outputs": [
                {
                    "data": {
                        "text/plain": [
                            "<sklearn.calibration.CalibrationDisplay at 0x7f0064ea98e0>"
                        ]
                    },
                    "execution_count": 41,
                    "metadata": {},
                    "output_type": "execute_result"
                },
                {
                    "data": {
                        "image/png": "[encoded data removed]",
                        "text/plain": [
                            "<Figure size 432x288 with 1 Axes>"
                        ]
                    },
                    "metadata": {
                        "needs_background": "light"
                    },
                    "output_type": "display_data"
                }
            ],
            "source": [
                "from sklearn.calibration import CalibrationDisplay\n",
                "disp = CalibrationDisplay(prob_true, prob_pred, probas)\n",
                "disp.plot()"
            ]
        },
        {
            "cell_type": "code",
            "execution_count": 25,
            "metadata": {},
            "outputs": [
                {
                    "data": {
                        "text/plain": [
                            "(array([233338., 234629., 233913., 236666., 224658., 202359., 176467.,\n",
                            "         60563.,   7800.,    567.]),\n",
                            " array([0.70000005, 0.73000004, 0.76000004, 0.79000003, 0.82000003,\n",
                            "        0.85000002, 0.88000002, 0.91000001, 0.94000001, 0.97      ,\n",
                            "        1.        ]),\n",
                            " <BarContainer object of 10 artists>)"
                        ]
                    },
                    "execution_count": 25,
                    "metadata": {},
                    "output_type": "execute_result"
                },
                {
                    "data": {
                        "image/png": "[encoded data removed]",
                        "text/plain": [
                            "<Figure size 432x288 with 1 Axes>"
                        ]
                    },
                    "metadata": {
                        "needs_background": "light"
                    },
                    "output_type": "display_data"
                }
            ],
            "source": [
                "high = probas[probas >=0.70]\n",
                "plt.hist(high)"
            ]
        },
        {
            "cell_type": "code",
            "execution_count": 38,
            "metadata": {},
            "outputs": [],
            "source": [
                "# prob_true, prob_pred = calibration_curve(targets, probas, n_bins=2000, strategy=\"quantile\")  # X seconds\n",
                "# disp = CalibrationDisplay(prob_true, prob_pred, probas)\n",
                "# disp.plot()"
            ]
        },
        {
            "cell_type": "code",
            "execution_count": 29,
            "metadata": {},
            "outputs": [
                {
                    "name": "stdout",
                    "output_type": "stream",
                    "text": [
                        "0.05777376225463669 0.05747976932681683 0.08276316111932441\n"
                    ]
                }
            ],
            "source": []
        },
        {
            "cell_type": "code",
            "execution_count": 37,
            "metadata": {},
            "outputs": [
                {
                    "data": {
                        "text/plain": [
                            "[0.0018166363136370072,\n",
                            " 0.019421164125758065,\n",
                            " 0.020355094212021366,\n",
                            " 0.020846054891833863,\n",
                            " 0.02118000554868423,\n",
                            " 0.021421211849484593,\n",
                            " 0.021589960408644155,\n",
                            " 0.021684893131809727,\n",
                            " 0.021705932915210724,\n",
                            " 0.021705936640501022,\n",
                            " 0.02170594409108162,\n",
                            " 0.021706082578616785,\n",
                            " 0.02174829607674364,\n",
                            " 0.021847406818571027,\n",
                            " 0.021968424126293167,\n",
                            " 0.022104870029519805,\n",
                            " 0.022254379307918657,\n",
                            " 0.022415629204992505,\n",
                            " 0.02258738814276424,\n",
                            " 0.022769504343233965,\n",
                            " 0.02296125234484877,\n",
                            " 0.023162292529485002,\n",
                            " 0.023372369583901015,\n",
                            " 0.023591163160163325,\n",
                            " 0.023818640243156726,\n",
                            " 0.024054174029202093,\n",
                            " 0.024297050369178626,\n",
                            " 0.024548025315289813,\n",
                            " 0.024806667473936617,\n",
                            " 0.02507222294170708,\n",
                            " 0.025345045983747604,\n",
                            " 0.02562477692925218,\n",
                            " 0.025911026996595962,\n",
                            " 0.026203624660393686,\n",
                            " 0.026502763636022157,\n",
                            " 0.026808529187359736,\n",
                            " 0.027120078429793224,\n",
                            " 0.02743766604620629,\n",
                            " 0.027760485227136034,\n",
                            " 0.02808869274061787,\n",
                            " 0.02842288755002026,\n",
                            " 0.02876224409168509,\n",
                            " 0.029106710877999445,\n",
                            " 0.02945595732885945,\n",
                            " 0.029810496644223222,\n",
                            " 0.030169830699138242,\n",
                            " 0.030533526661504815,\n",
                            " 0.030901300453068707,\n",
                            " 0.031274106636698946,\n",
                            " 0.03165130956309917,\n",
                            " 0.03203319897981336,\n",
                            " 0.032419060253859114,\n",
                            " 0.03280920016401416,\n",
                            " 0.03320259968985084,\n",
                            " 0.0335998495803271,\n",
                            " 0.034000566416448635,\n",
                            " 0.034404495215809246,\n",
                            " 0.034811635292222545,\n",
                            " 0.03522092199932319,\n",
                            " 0.035633908980675776,\n",
                            " 0.03604967498455818,\n",
                            " 0.036467996775774725,\n",
                            " 0.036888039318229364,\n",
                            " 0.037310152223019095,\n",
                            " 0.03773428271205454,\n",
                            " 0.038159527231869064,\n",
                            " 0.03858729645693656,\n",
                            " 0.03901661707684976,\n",
                            " 0.03944720203941332,\n",
                            " 0.03987898004253891,\n",
                            " 0.04031177563344848,\n",
                            " 0.04074505534789784,\n",
                            " 0.041179093624162735,\n",
                            " 0.04161347407573974,\n",
                            " 0.04204818958057661,\n",
                            " 0.042482759811562965,\n",
                            " 0.04291753612195652,\n",
                            " 0.04335220379477378,\n",
                            " 0.04378763318663785,\n",
                            " 0.044223443095338495,\n",
                            " 0.04465928421164702,\n",
                            " 0.04509508703023667,\n",
                            " 0.04553195560527376,\n",
                            " 0.045969854299075005,\n",
                            " 0.04640903341456479,\n",
                            " 0.04684921270852983,\n",
                            " 0.047290624917171314,\n",
                            " 0.04773322338161422,\n",
                            " 0.048177765731612456,\n",
                            " 0.04862394181904256,\n",
                            " 0.049072149652405625,\n",
                            " 0.049522678158543144,\n",
                            " 0.04997618396954577,\n",
                            " 0.05043135535812682,\n",
                            " 0.05088848436939377,\n",
                            " 0.051348249081600655,\n",
                            " 0.05181072481456358,\n",
                            " 0.05227645547492172,\n",
                            " 0.05274555130136511,\n",
                            " 0.05321778108795141,\n",
                            " 0.053692958185386025,\n",
                            " 0.054171946265936854,\n",
                            " 0.05465493954559341,\n",
                            " 0.05514224493671035,\n",
                            " 0.05563381957365773,\n",
                            " 0.05612962845921562,\n",
                            " 0.05663107444632079,\n",
                            " 0.057137274289725724,\n",
                            " 0.05764764764067138,\n",
                            " 0.058162894742021506,\n",
                            " 0.05868332071565655,\n",
                            " 0.059208308706298084,\n",
                            " 0.059737559425602285,\n",
                            " 0.06027156655936819,\n",
                            " 0.06080977915824136,\n",
                            " 0.06135326205270679,\n",
                            " 0.06190259626476367,\n",
                            " 0.06245795097649714,\n",
                            " 0.06302072560129092,\n",
                            " 0.06359200709745466,\n",
                            " 0.06417237580733787,\n",
                            " 0.06476326470535951,\n",
                            " 0.06536490123543909,\n",
                            " 0.06597948887263541,\n",
                            " 0.06660765895564831,\n",
                            " 0.06725241779142237,\n",
                            " 0.06791547840726271,\n",
                            " 0.06859679716714068,\n",
                            " 0.06929863782805254,\n",
                            " 0.07002401820028564,\n",
                            " 0.07077454179395526,\n",
                            " 0.07155111260508532,\n",
                            " 0.07235611708499576,\n",
                            " 0.0731931025378933,\n",
                            " 0.07406480833238893,\n",
                            " 0.0749735857317183,\n",
                            " 0.0759225906348389,\n",
                            " 0.07691472121036293,\n",
                            " 0.07795279273405378,\n",
                            " 0.07904454601392805,\n",
                            " 0.08019165639863023,\n",
                            " 0.08139870634926114,\n",
                            " 0.08267221051948233,\n",
                            " 0.08401766316571282,\n",
                            " 0.08544150996629987,\n",
                            " 0.0869443505916758,\n",
                            " 0.08853138188572762,\n",
                            " 0.09020816763803331,\n",
                            " 0.09199031756963268,\n",
                            " 0.0938912115731217,\n",
                            " 0.09593203743997093,\n",
                            " 0.09812954392925732,\n",
                            " 0.10050342469814971,\n",
                            " 0.10307538570382735,\n",
                            " 0.10588177896702966,\n",
                            " 0.10896134631025729,\n",
                            " 0.11237016871790391,\n",
                            " 0.11615829833205271,\n",
                            " 0.12041301384599726,\n",
                            " 0.12522229354506323,\n",
                            " 0.13072277325114626,\n",
                            " 0.13713266264162338,\n",
                            " 0.1448078747503314,\n",
                            " 0.15425640118603298,\n",
                            " 0.1661689582485222,\n",
                            " 0.18172211035434796,\n",
                            " 0.20300427627936193,\n",
                            " 0.23397818548438165,\n",
                            " 0.28360848219638196,\n",
                            " 0.3776252934023861,\n",
                            " 0.563315508985843,\n",
                            " 0.7964271676730509]"
                        ]
                    },
                    "execution_count": 37,
                    "metadata": {},
                    "output_type": "execute_result"
                }
            ],
            "source": [
                "sorted(prob_pred)"
            ]
        }
    ],
    "metadata": {
        "interpreter": {
            "hash": "4f3909b2e75569dc8b2b34caf098ca3ee0f42a2662257ad318d68379d9358cf1"
        },
        "kernelspec": {
            "display_name": "Python 3.9.0 64-bit ('working_copy': conda)",
            "name": "python3"
        },
        "language_info": {
            "codemirror_mode": {
                "name": "ipython",
                "version": 3
            },
            "file_extension": ".py",
            "mimetype": "text/x-python",
            "name": "python",
            "nbconvert_exporter": "python",
            "pygments_lexer": "ipython3",
            "version": "3.9.0"
        },
        "orig_nbformat": 4
    },
    "nbformat": 4,
    "nbformat_minor": 2
}
