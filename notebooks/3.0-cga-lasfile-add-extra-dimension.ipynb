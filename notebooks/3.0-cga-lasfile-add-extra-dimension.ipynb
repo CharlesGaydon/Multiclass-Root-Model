{
    "cells": [
        {
            "cell_type": "code",
            "execution_count": 1,
            "source": [
                "import laspy\n",
                "import numpy as np\n",
                "filepath = \"../data/lidar_toy/train/845000_6610000.las\"\n",
                "las = laspy.read(filepath)\n",
                "param = laspy.ExtraBytesParams(name=\"building_logit\", type=float)\n",
                "las.add_extra_dim(param)\n",
                "las"
            ],
            "outputs": [
                {
                    "output_type": "execute_result",
                    "data": {
                        "text/plain": [
                            "<LasData(1.4, point fmt: <PointFormat(8, 8 bytes of extra dims)>, 8228080 points, 1 vlrs)>"
                        ]
                    },
                    "metadata": {},
                    "execution_count": 1
                }
            ],
            "metadata": {}
        },
        {
            "cell_type": "code",
            "execution_count": 2,
            "source": [
                "las = laspy.read(\"/home/CGaydon/repositories/Segmentation-Validation-Model/logs/runs/2021-10-05/10-29-03/validation_preds/845000_6610000.las\")"
            ],
            "outputs": [],
            "metadata": {}
        },
        {
            "cell_type": "code",
            "execution_count": 6,
            "source": [
                "np.unique(las.classification)"
            ],
            "outputs": [
                {
                    "output_type": "execute_result",
                    "data": {
                        "text/plain": [
                            "array([0, 1, 2, 3], dtype=uint8)"
                        ]
                    },
                    "metadata": {},
                    "execution_count": 6
                }
            ],
            "metadata": {}
        },
        {
            "cell_type": "code",
            "execution_count": 25,
            "source": [
                "import laspy\n",
                "import numpy as np\n",
                "filepath = \"../data/lidar_toy/train/845000_6610000.las\"\n",
                "las = laspy.create()\n",
                "param = laspy.ExtraBytesParams(\n",
                "    name='desff',\n",
                "    type=np.float,\n",
                ")\n",
                "las.add_extra_dim(param)"
            ],
            "outputs": [
                {
                    "output_type": "stream",
                    "name": "stderr",
                    "text": [
                        "/tmp/ipykernel_85422/3106231540.py:7: DeprecationWarning: `np.float` is a deprecated alias for the builtin `float`. To silence this warning, use `float` by itself. Doing this will not modify any behavior and is safe. If you specifically wanted the numpy scalar type, use `np.float64` here.\n",
                        "Deprecated in NumPy 1.20; for more details and guidance: https://numpy.org/devdocs/release/1.20.0-notes.html#deprecations\n",
                        "  type=np.float,\n"
                    ]
                }
            ],
            "metadata": {}
        },
        {
            "cell_type": "code",
            "execution_count": 26,
            "source": [
                "las"
            ],
            "outputs": [
                {
                    "output_type": "execute_result",
                    "data": {
                        "text/plain": [
                            "<LasData(1.2, point fmt: <PointFormat(3, 8 bytes of extra dims)>, 0 points, 1 vlrs)>"
                        ]
                    },
                    "metadata": {},
                    "execution_count": 26
                }
            ],
            "metadata": {}
        },
        {
            "cell_type": "code",
            "execution_count": null,
            "source": [],
            "outputs": [],
            "metadata": {}
        },
        {
            "cell_type": "code",
            "execution_count": null,
            "source": [],
            "outputs": [],
            "metadata": {}
        }
    ],
    "metadata": {
        "orig_nbformat": 4,
        "language_info": {
            "name": "python",
            "version": "3.9.0",
            "mimetype": "text/x-python",
            "codemirror_mode": {
                "name": "ipython",
                "version": 3
            },
            "pygments_lexer": "ipython3",
            "nbconvert_exporter": "python",
            "file_extension": ".py"
        },
        "kernelspec": {
            "name": "python3",
            "display_name": "Python 3.9.0 64-bit ('validation_module': conda)"
        },
        "interpreter": {
            "hash": "00f061fa2e3ad68084a4b46e33b54c46d55f8cbea83309853859453c41066dba"
        }
    },
    "nbformat": 4,
    "nbformat_minor": 2
}
