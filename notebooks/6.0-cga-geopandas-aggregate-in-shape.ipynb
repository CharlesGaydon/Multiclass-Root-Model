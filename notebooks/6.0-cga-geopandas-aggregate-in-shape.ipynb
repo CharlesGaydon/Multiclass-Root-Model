{
    "cells": [
        {
            "cell_type": "code",
            "execution_count": null,
            "source": [
                "import geopandas\n",
                "import laspy\n",
                "from geopandas import GeoDataFrame\n",
                "import pandas as pd\n",
                "from shapely.geometry import Point\n",
                "import numpy as np"
            ],
            "outputs": [],
            "metadata": {}
        },
        {
            "cell_type": "code",
            "execution_count": 10,
            "source": [
                "# shapefile post correction\n",
                "filepath = \"/var/data/cgaydon/data/202110_building_val/metadata/post_correction_shapefile/Compilation_detections.shp\"\n",
                "gdf = geopandas.read_file(filepath)\n",
                "candidate_buildings_classes = [\"bati_valide\", \"bati_auto\", \"surdetection_pont\",\"surdetection_veget\", \n",
                "\"surdetection_vehicule\", \"surdetection_autre\"] \n",
                "gdf = gdf[gdf.classe.isin(candidate_buildings_classes)]\n",
                "gdf = gdf.reset_index().rename(columns={\"index\":\"shape_index\"})\n",
                "print(len(gdf))\n",
                "gdf.head()"
            ],
            "outputs": [
                {
                    "output_type": "stream",
                    "name": "stdout",
                    "text": [
                        "27218\n"
                    ]
                },
                {
                    "output_type": "execute_result",
                    "data": {
                        "text/plain": [
                            "   shape_index num_classe  _area             classe  \\\n",
                            "0            0        115    7.0  surdetection_pont   \n",
                            "1            1        115   11.0  surdetection_pont   \n",
                            "2            2        115    6.0  surdetection_pont   \n",
                            "3            3        115   10.0  surdetection_pont   \n",
                            "4            4        115    6.0  surdetection_pont   \n",
                            "\n",
                            "                                            geometry  \n",
                            "0  POLYGON ((791560.895 6271271.950, 791562.787 6...  \n",
                            "1  POLYGON ((791806.990 6271517.767, 791809.073 6...  \n",
                            "2  POLYGON ((792819.156 6269722.385, 792822.755 6...  \n",
                            "3  POLYGON ((792949.676 6270234.185, 792951.278 6...  \n",
                            "4  POLYGON ((792186.562 6270516.497, 792187.638 6...  "
                        ],
                        "text/html": [
                            "<div>\n",
                            "<style scoped>\n",
                            "    .dataframe tbody tr th:only-of-type {\n",
                            "        vertical-align: middle;\n",
                            "    }\n",
                            "\n",
                            "    .dataframe tbody tr th {\n",
                            "        vertical-align: top;\n",
                            "    }\n",
                            "\n",
                            "    .dataframe thead th {\n",
                            "        text-align: right;\n",
                            "    }\n",
                            "</style>\n",
                            "<table border=\"1\" class=\"dataframe\">\n",
                            "  <thead>\n",
                            "    <tr style=\"text-align: right;\">\n",
                            "      <th></th>\n",
                            "      <th>shape_index</th>\n",
                            "      <th>num_classe</th>\n",
                            "      <th>_area</th>\n",
                            "      <th>classe</th>\n",
                            "      <th>geometry</th>\n",
                            "    </tr>\n",
                            "  </thead>\n",
                            "  <tbody>\n",
                            "    <tr>\n",
                            "      <th>0</th>\n",
                            "      <td>0</td>\n",
                            "      <td>115</td>\n",
                            "      <td>7.0</td>\n",
                            "      <td>surdetection_pont</td>\n",
                            "      <td>POLYGON ((791560.895 6271271.950, 791562.787 6...</td>\n",
                            "    </tr>\n",
                            "    <tr>\n",
                            "      <th>1</th>\n",
                            "      <td>1</td>\n",
                            "      <td>115</td>\n",
                            "      <td>11.0</td>\n",
                            "      <td>surdetection_pont</td>\n",
                            "      <td>POLYGON ((791806.990 6271517.767, 791809.073 6...</td>\n",
                            "    </tr>\n",
                            "    <tr>\n",
                            "      <th>2</th>\n",
                            "      <td>2</td>\n",
                            "      <td>115</td>\n",
                            "      <td>6.0</td>\n",
                            "      <td>surdetection_pont</td>\n",
                            "      <td>POLYGON ((792819.156 6269722.385, 792822.755 6...</td>\n",
                            "    </tr>\n",
                            "    <tr>\n",
                            "      <th>3</th>\n",
                            "      <td>3</td>\n",
                            "      <td>115</td>\n",
                            "      <td>10.0</td>\n",
                            "      <td>surdetection_pont</td>\n",
                            "      <td>POLYGON ((792949.676 6270234.185, 792951.278 6...</td>\n",
                            "    </tr>\n",
                            "    <tr>\n",
                            "      <th>4</th>\n",
                            "      <td>4</td>\n",
                            "      <td>115</td>\n",
                            "      <td>6.0</td>\n",
                            "      <td>surdetection_pont</td>\n",
                            "      <td>POLYGON ((792186.562 6270516.497, 792187.638 6...</td>\n",
                            "    </tr>\n",
                            "  </tbody>\n",
                            "</table>\n",
                            "</div>"
                        ]
                    },
                    "metadata": {},
                    "execution_count": 10
                }
            ],
            "metadata": {}
        },
        {
            "cell_type": "code",
            "execution_count": null,
            "source": [
                "# A predicted las - we keep only points previously detected as buuildings by terra-solid -> we must say if we agree with\n",
                "# what generated the shapefile in the first place. This ignore differences in vegetation efficiently, as well building parts\n",
                "# that were missed.\n",
                "# Initial classes: [  1,   2,   6 (detected building, no validation),  19 (valid building),  20 (surdetection, unspecified),\n",
                "#     21 (building, forgotten), 104, 110 (surdetection, others), 112 (surdetection, vehicule), 114 (surdetection, others), 115 (surdetection, bridges)]\n",
                "# las_filepath = \"/var/data/cgaydon/data/202110_building_val/logs/runs/2021-10-19/12-07-08/validation_preds/test_876000_6602000.las\"\n",
                "las_filepath = '/var/data/cgaydon/data/202110_building_val/logs/runs/2021-10-14/17-42-59/validation_preds/train_792000_6270000.las'\n",
                "las = laspy.read(las_filepath)\n",
                "classification_flag_candidate = [6, 19, 20,110,112,114,115]  # TODO: check what 104 is.\n",
                "las.points = las[np.isin(las[\"classification\"],classification_flag_candidate)]\n",
                "lidar_df = pd.DataFrame(las[\"BuildingsProba\"], columns=[\"BuildingsProba\"])\n",
                "crs = gdf.crs\n",
                "geometry = [Point(xy) for xy in zip(las.x,las.y)]\n",
                "lidar_geodf = GeoDataFrame(lidar_df, crs=crs, geometry=geometry)\n"
            ],
            "outputs": [],
            "metadata": {}
        },
        {
            "cell_type": "code",
            "execution_count": 12,
            "source": [],
            "outputs": [
                {
                    "output_type": "error",
                    "ename": "AttributeError",
                    "evalue": "LasData object has no attribute 'crs'",
                    "traceback": [
                        "\u001b[0;31m---------------------------------------------------------------------------\u001b[0m",
                        "\u001b[0;31mAttributeError\u001b[0m                            Traceback (most recent call last)",
                        "\u001b[0;32m/tmp/ipykernel_31981/3556798338.py\u001b[0m in \u001b[0;36m<module>\u001b[0;34m\u001b[0m\n\u001b[0;32m----> 1\u001b[0;31m \u001b[0mlas\u001b[0m\u001b[0;34m.\u001b[0m\u001b[0mcrs\u001b[0m\u001b[0;34m\u001b[0m\u001b[0;34m\u001b[0m\u001b[0m\n\u001b[0m",
                        "\u001b[0;32m/var/data/cgaydon/anaconda3/envs/validation_module_gpu/lib/python3.9/site-packages/laspy/lasdata.py\u001b[0m in \u001b[0;36m__getattr__\u001b[0;34m(self, item)\u001b[0m\n\u001b[1;32m    275\u001b[0m             \u001b[0;32mreturn\u001b[0m \u001b[0mself\u001b[0m\u001b[0;34m.\u001b[0m\u001b[0mpoints\u001b[0m\u001b[0;34m[\u001b[0m\u001b[0mitem\u001b[0m\u001b[0;34m]\u001b[0m\u001b[0;34m\u001b[0m\u001b[0;34m\u001b[0m\u001b[0m\n\u001b[1;32m    276\u001b[0m         \u001b[0;32mexcept\u001b[0m \u001b[0mValueError\u001b[0m\u001b[0;34m:\u001b[0m\u001b[0;34m\u001b[0m\u001b[0;34m\u001b[0m\u001b[0m\n\u001b[0;32m--> 277\u001b[0;31m             raise AttributeError(\n\u001b[0m\u001b[1;32m    278\u001b[0m                 \u001b[0;34mf\"{self.__class__.__name__} object has no attribute '{item}'\"\u001b[0m\u001b[0;34m\u001b[0m\u001b[0;34m\u001b[0m\u001b[0m\n\u001b[1;32m    279\u001b[0m             ) from None\n",
                        "\u001b[0;31mAttributeError\u001b[0m: LasData object has no attribute 'crs'"
                    ]
                }
            ],
            "metadata": {}
        },
        {
            "cell_type": "code",
            "execution_count": null,
            "source": [
                "# Keep only points that are within a detected shape\n",
                "lidar_geodf_inside = lidar_geodf.sjoin(gdf, how=\"inner\", predicate='within')\n",
                "# Aggregate confusion of points from the same shape in a list\n",
                "lidar_geodf_inside_lists = lidar_geodf_inside.groupby(\"shape_index\")[\"BuildingsProba\"].agg(lambda x: x.tolist())"
            ],
            "outputs": [],
            "metadata": {}
        },
        {
            "cell_type": "code",
            "execution_count": null,
            "source": [
                "# at the end we have several, independant shape (assume no border effect)\n",
                "lidar_geodf_inside_lists_all_tiles = pd.concat([lidar_geodf_inside_lists, lidar_geodf_inside_lists])\n",
                "\n",
                "# Now : calculate % of aggrement for these shape (remember: all points were detected as building by MTS)\n",
                "def contrast(shape_signals):\n",
                "    # use a threshold that varies\n",
                "    arr = np.array(shape_signals)\n",
                "    arr = np.sum(arr>=.5) / len(arr)\n",
                "    return arr\n",
                "\n",
                "lidar_geodf_inside_lists_all_tiles = lidar_geodf_inside_lists_all_tiles.apply(lambda x: contrast(x))\n",
                "# join back with geometries\n",
                "df_out = gdf.join(lidar_geodf_inside_lists_all_tiles, on=\"shape_index\",how=\"left\")\n",
                "# save"
            ],
            "outputs": [],
            "metadata": {}
        },
        {
            "cell_type": "code",
            "execution_count": null,
            "source": [
                "df_out_expl = df_out.dropna()\n",
                "df_out_expl.explore(column=\"BuildingsProba\", scheme=\"naturalbreaks\", legend=True, k=5)"
            ],
            "outputs": [],
            "metadata": {}
        },
        {
            "cell_type": "code",
            "execution_count": null,
            "source": [
                "# # https://stackoverflow.com/a/66852676/8086033\n",
                "# # !pip install multiprocesspandas\n",
                "# from multiprocesspandas import applyparallel\n",
                "# lidar_df = pd.DataFrame(data = np.array([smaller_las.x, smaller_las.y]).transpose(), columns=[\"x\",\"y\"])\n",
                "# # lidar_df.applyparallel(lambda x: Point(x),axis=1, num_processes=2)\n",
                "# %timeit geometry = lidar_df.apply(lambda x: Point(x),axis=1)"
            ],
            "outputs": [],
            "metadata": {}
        }
    ],
    "metadata": {
        "orig_nbformat": 4,
        "language_info": {
            "name": "python",
            "version": "3.9.0",
            "mimetype": "text/x-python",
            "codemirror_mode": {
                "name": "ipython",
                "version": 3
            },
            "pygments_lexer": "ipython3",
            "nbconvert_exporter": "python",
            "file_extension": ".py"
        },
        "kernelspec": {
            "name": "python3",
            "display_name": "Python 3.9.0 64-bit ('validation_module_gpu': conda)"
        },
        "interpreter": {
            "hash": "fb8bbeb0fbabaf507623273691b0dfacd6d1fed0167a685d023afaf07376d524"
        }
    },
    "nbformat": 4,
    "nbformat_minor": 2
}