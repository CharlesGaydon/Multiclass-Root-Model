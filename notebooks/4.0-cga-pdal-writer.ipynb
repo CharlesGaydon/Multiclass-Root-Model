{
    "cells": [
        {
            "cell_type": "code",
            "execution_count": 27,
            "source": [
                "import laspy\n",
                "filepath = \"/home/CGaydon/repositories/Segmentation-Validation-Model/data/lidar_toy/train/845000_6610000.las\"\n",
                "# las = laspy.read()"
            ],
            "outputs": [],
            "metadata": {}
        },
        {
            "cell_type": "code",
            "execution_count": 2,
            "source": [
                "import pdal"
            ],
            "outputs": [],
            "metadata": {}
        },
        {
            "cell_type": "code",
            "execution_count": 28,
            "source": [
                "las  =laspy.read(filepath)"
            ],
            "outputs": [],
            "metadata": {}
        },
        {
            "cell_type": "code",
            "execution_count": 26,
            "source": [
                "las.header"
            ],
            "outputs": [
                {
                    "output_type": "execute_result",
                    "data": {
                        "text/plain": [
                            "<LasHeader(1.4, <PointFormat(8, 0 bytes of extra dims)>)>"
                        ]
                    },
                    "metadata": {},
                    "execution_count": 26
                }
            ],
            "metadata": {}
        },
        {
            "cell_type": "code",
            "execution_count": 29,
            "source": [
                "import json\n",
                "pipeline = {\"pipeline\" : [{\n",
                "        \"type\":\"readers.las\",\n",
                "        \"filename\":filepath,\n",
                "    }]}\n",
                "pipeline = json.dumps(pipeline)\n",
                "pipeline = pdal.Pipeline(pipeline)\n",
                "count = pipeline.execute()"
            ],
            "outputs": [
                {
                    "output_type": "stream",
                    "name": "stderr",
                    "text": [
                        "(readers.las Error) Global encoding WKT flag not set for point format 6 - 10.\n"
                    ]
                }
            ],
            "metadata": {}
        },
        {
            "cell_type": "code",
            "execution_count": 15,
            "source": [
                "arrays = pipeline.arrays\n"
            ],
            "outputs": [],
            "metadata": {}
        }
    ],
    "metadata": {
        "orig_nbformat": 4,
        "language_info": {
            "name": "python",
            "version": "3.9.0",
            "mimetype": "text/x-python",
            "codemirror_mode": {
                "name": "ipython",
                "version": 3
            },
            "pygments_lexer": "ipython3",
            "nbconvert_exporter": "python",
            "file_extension": ".py"
        },
        "kernelspec": {
            "name": "python3",
            "display_name": "Python 3.9.0 64-bit ('validation_module': conda)"
        },
        "interpreter": {
            "hash": "00f061fa2e3ad68084a4b46e33b54c46d55f8cbea83309853859453c41066dba"
        }
    },
    "nbformat": 4,
    "nbformat_minor": 2
}
