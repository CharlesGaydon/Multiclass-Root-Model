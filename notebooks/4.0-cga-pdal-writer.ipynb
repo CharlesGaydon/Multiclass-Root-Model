{
    "cells": [
        {
            "cell_type": "code",
            "execution_count": 18,
            "source": [
                "import laspy\n",
                "filepath = \"/var/data/cgaydon/data/202110_building_val/trainvaltest/792000_6270000.las\"\n",
                "# filepath = \"/home/cgaydon/004000045-3-1.las\"  # functionnal"
            ],
            "outputs": [],
            "metadata": {}
        },
        {
            "cell_type": "code",
            "execution_count": 19,
            "source": [
                "import pdal"
            ],
            "outputs": [],
            "metadata": {}
        },
        {
            "cell_type": "code",
            "execution_count": 20,
            "source": [
                "las  = laspy.read(filepath)"
            ],
            "outputs": [],
            "metadata": {}
        },
        {
            "cell_type": "code",
            "execution_count": 32,
            "source": [
                "filepath"
            ],
            "outputs": [
                {
                    "output_type": "execute_result",
                    "data": {
                        "text/plain": [
                            "'/var/data/cgaydon/data/202110_building_val/trainvaltest/792000_6270000.las'"
                        ]
                    },
                    "metadata": {},
                    "execution_count": 32
                }
            ],
            "metadata": {}
        },
        {
            "cell_type": "code",
            "execution_count": 21,
            "source": [
                "las.header"
            ],
            "outputs": [
                {
                    "output_type": "execute_result",
                    "data": {
                        "text/plain": [
                            "<LasHeader(1.4, <PointFormat(8, 0 bytes of extra dims)>)>"
                        ]
                    },
                    "metadata": {},
                    "execution_count": 21
                }
            ],
            "metadata": {}
        },
        {
            "cell_type": "code",
            "execution_count": 33,
            "source": [
                "import json\n",
                "pipeline = {\"pipeline\" : [{\n",
                "        \"type\":\"readers.las\",\n",
                "        \"filename\":filepath,\n",
                "        \"override_srs\": \"EPSG:2154\",\n",
                "        \"nosrs\": True\n",
                "    }]}\n",
                "pipeline = json.dumps(pipeline)\n",
                "pipeline = pdal.Pipeline(pipeline)\n",
                "count = pipeline.execute()"
            ],
            "outputs": [],
            "metadata": {}
        },
        {
            "cell_type": "code",
            "execution_count": 31,
            "source": [
                "arrays = pipeline.arrays\n",
                "arrays\n"
            ],
            "outputs": [
                {
                    "output_type": "execute_result",
                    "data": {
                        "text/plain": [
                            "[array([(792000.  , 6269979.86, 14.43, 2440, 1, 1, 1, 0, 19,  13.002, 0, 6, 3.05467649e+08, 48640, 47360, 45440, 0, 0, 0),\n",
                            "        (792000.  , 6269989.34, 11.24, 1026, 1, 2, 0, 0,  1,  12.   , 0, 6, 3.05467663e+08, 43776, 44032, 39808, 0, 0, 0),\n",
                            "        (792000.  , 6269010.63,  3.47, 2072, 1, 1, 1, 0,  1,  12.   , 0, 6, 3.05467661e+08, 22400, 27392, 22784, 0, 0, 0),\n",
                            "        ...,\n",
                            "        (792999.73, 6269999.76,  1.14, 2456, 1, 1, 0, 0,  2, -18.   , 0, 7, 3.05468057e+08, 47104, 47104, 43776, 0, 0, 0),\n",
                            "        (792998.88, 6269999.91,  1.16, 2534, 1, 1, 0, 0,  1, -18.   , 0, 7, 3.05468057e+08, 46592, 45824, 41472, 0, 0, 0),\n",
                            "        (792998.98, 6269999.95,  1.16, 2679, 1, 1, 0, 0,  1, -18.   , 0, 7, 3.05468057e+08, 46848, 45824, 41728, 0, 0, 0)],\n",
                            "       dtype=[('X', '<f8'), ('Y', '<f8'), ('Z', '<f8'), ('Intensity', '<u2'), ('ReturnNumber', 'u1'), ('NumberOfReturns', 'u1'), ('ScanDirectionFlag', 'u1'), ('EdgeOfFlightLine', 'u1'), ('Classification', 'u1'), ('ScanAngleRank', '<f4'), ('UserData', 'u1'), ('PointSourceId', '<u2'), ('GpsTime', '<f8'), ('Red', '<u2'), ('Green', '<u2'), ('Blue', '<u2'), ('Infrared', '<u2'), ('ScanChannel', 'u1'), ('ClassFlags', 'u1')])]"
                        ]
                    },
                    "metadata": {},
                    "execution_count": 31
                }
            ],
            "metadata": {}
        }
    ],
    "metadata": {
        "orig_nbformat": 4,
        "language_info": {
            "name": "python",
            "version": "3.9.0",
            "mimetype": "text/x-python",
            "codemirror_mode": {
                "name": "ipython",
                "version": 3
            },
            "pygments_lexer": "ipython3",
            "nbconvert_exporter": "python",
            "file_extension": ".py"
        },
        "kernelspec": {
            "name": "python3",
            "display_name": "Python 3.9.0 64-bit ('validation_module': conda)"
        },
        "interpreter": {
            "hash": "c2ad009256293acd71e9bc334386b70d21a66c850c742dbbea1e2c434cc7212a"
        }
    },
    "nbformat": 4,
    "nbformat_minor": 2
}