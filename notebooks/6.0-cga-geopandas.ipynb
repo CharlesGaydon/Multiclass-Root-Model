{
    "cells": [
        {
            "cell_type": "code",
            "execution_count": null,
            "source": [
                "import geopandas\n",
                "import laspy\n",
                "from geopandas import GeoDataFrame\n",
                "import pandas as pd\n",
                "from shapely.geometry import Point\n",
                "import numpy as np"
            ],
            "outputs": [],
            "metadata": {}
        },
        {
            "cell_type": "code",
            "execution_count": null,
            "source": [
                "# shapefile post correction\n",
                "filepath = \"/var/data/cgaydon/data/202110_building_val/metadata/post_correction_shapefile/Compilation_detections.shp\"\n",
                "gdf = geopandas.read_file(filepath)\n",
                "candidate_buildings_classes = [\"bati_valide\", \"bati_auto\", \"surdetection_pont\",\"surdetection_veget\", \n",
                "\"surdetection_vehicule\", \"surdetection_autre\"] \n",
                "gdf = gdf[gdf.classe.isin(candidate_buildings_classes)]\n",
                "gdf = gdf.reset_index().rename(columns={\"index\":\"shape_index\"})\n",
                "print(len(gdf))\n",
                "gdf.head()"
            ],
            "outputs": [],
            "metadata": {}
        },
        {
            "cell_type": "code",
            "execution_count": null,
            "source": [
                "# A predicted las - we keep only points previously detected as buuildings by terra-solid -> we must say if we agree with\n",
                "# what generated the shapefile in the first place. This ignore differences in vegetation efficiently, as well building parts\n",
                "# that were missed.\n",
                "# Initial classes: [  1,   2,   6 (detected building, no validation),  19 (valid building),  20 (surdetection, unspecified),\n",
                "#     21 (building, forgotten), 104, 110 (surdetection, others), 112 (surdetection, vehicule), 114 (surdetection, others), 115 (surdetection, bridges)]\n",
                "las_filepath = \"/var/data/cgaydon/data/202110_building_val/logs/runs/2021-10-19/12-07-08/validation_preds/test_876000_6602000.las\"\n",
                "# las_filepath = '/var/data/cgaydon/data/202110_building_val/trainvaltest/879000_6647000.las'\n",
                "las = laspy.read(las_filepath)\n",
                "classification_flag_candidate = [6, 19, 20,110,112,114,115]  # TODO: check what 104 is.\n",
                "las.points = las[np.isin(las[\"classification\"],classification_flag_candidate)]\n",
                "lidar_df = pd.DataFrame(las[\"BuildingsProba\"], columns=[\"BuildingsProba\"])\n",
                "crs = gdf.crs\n",
                "geometry = [Point(xy) for xy in zip(las.x,las.y)]\n",
                "lidar_geodf = GeoDataFrame(lidar_df, crs=crs, geometry=geometry)\n"
            ],
            "outputs": [],
            "metadata": {}
        },
        {
            "cell_type": "code",
            "execution_count": null,
            "source": [
                "# Keep only points that are within a detected shape\n",
                "lidar_geodf_inside = lidar_geodf.sjoin(gdf, how=\"inner\", predicate='within')\n",
                "# Aggregate confusion of points from the same shape in a list\n",
                "lidar_geodf_inside_lists = lidar_geodf_inside.groupby(\"shape_index\")[\"BuildingsProba\"].agg(lambda x: x.tolist())"
            ],
            "outputs": [],
            "metadata": {}
        },
        {
            "cell_type": "code",
            "execution_count": null,
            "source": [
                "# at the end we have several, independant shape (assume no border effect)\n",
                "lidar_geodf_inside_lists_all_tiles = pd.concat([lidar_geodf_inside_lists, lidar_geodf_inside_lists])\n",
                "\n",
                "# Now : calculate % of aggrement for these shape (remember: all points were detected as building by MTS)\n",
                "def contrast(shape_signals):\n",
                "    arr = np.array(shape_signals)\n",
                "    arr = np.sum(arr>=.5) / len(arr)\n",
                "    return arr\n",
                "lidar_geodf_inside_lists_all_tiles = lidar_geodf_inside_lists_all_tiles.apply(lambda x: contrast(x))\n",
                "# join back with geometries\n",
                "df_out = gdf.join(lidar_geodf_inside_lists_all_tiles, on=\"shape_index\",how=\"left\")\n",
                "# save"
            ],
            "outputs": [],
            "metadata": {}
        },
        {
            "cell_type": "code",
            "execution_count": null,
            "source": [
                "df_out_expl = df_out.dropna()\n",
                "df_out_expl.explore(column=\"BuildingsProba\", scheme=\"naturalbreaks\", legend=True, k=5)"
            ],
            "outputs": [],
            "metadata": {}
        },
        {
            "cell_type": "code",
            "execution_count": null,
            "source": [
                "# # https://stackoverflow.com/a/66852676/8086033\n",
                "# # !pip install multiprocesspandas\n",
                "# from multiprocesspandas import applyparallel\n",
                "# lidar_df = pd.DataFrame(data = np.array([smaller_las.x, smaller_las.y]).transpose(), columns=[\"x\",\"y\"])\n",
                "# # lidar_df.applyparallel(lambda x: Point(x),axis=1, num_processes=2)\n",
                "# %timeit geometry = lidar_df.apply(lambda x: Point(x),axis=1)"
            ],
            "outputs": [],
            "metadata": {}
        }
    ],
    "metadata": {
        "orig_nbformat": 4,
        "language_info": {
            "name": "python",
            "version": "3.9.0",
            "mimetype": "text/x-python",
            "codemirror_mode": {
                "name": "ipython",
                "version": 3
            },
            "pygments_lexer": "ipython3",
            "nbconvert_exporter": "python",
            "file_extension": ".py"
        },
        "kernelspec": {
            "name": "python3",
            "display_name": "Python 3.9.0 64-bit ('validation_module_gpu': conda)"
        },
        "interpreter": {
            "hash": "fb8bbeb0fbabaf507623273691b0dfacd6d1fed0167a685d023afaf07376d524"
        }
    },
    "nbformat": 4,
    "nbformat_minor": 2
}