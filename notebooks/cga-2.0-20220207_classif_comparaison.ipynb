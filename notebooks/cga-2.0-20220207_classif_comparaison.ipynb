{
 "cells": [
  {
   "cell_type": "code",
   "execution_count": 1,
   "metadata": {},
   "outputs": [],
   "source": [
    "\"\"\" \n",
    "The diff_dir folder contains points classified by 2 different methods, with consensus (1), predicted building \n",
    "by G (2) or by E (3) only. we cross it with probabilities and look at the confusion, using the AI model as a referee.\n",
    "\"\"\"\n",
    "\n",
    "import laspy\n",
    "import numpy as np\n",
    "import torch; torch.set_grad_enabled(False);\n",
    "from torch_geometric.nn.pool import knn\n",
    "from sklearn.metrics import confusion_matrix as cm\n",
    "import matplotlib.pyplot as plt\n",
    "from tqdm import tqdm\n"
   ]
  },
  {
   "cell_type": "code",
   "execution_count": 2,
   "metadata": {},
   "outputs": [
    {
     "name": "stdout",
     "output_type": "stream",
     "text": [
      "['791000_6270000.las', '864000_6649000.las', '871000_6649000.las', '877000_6647000.las', '923000_6308000.las', '791000_6271000.las', '870000_6619000.las', '875000_6616000.las', '887000_6613000.las', '923000_6323000.las', '871000_6619000.las', '875000_6619000.las', '888000_6614000.las', '924000_6309000.las']\n"
     ]
    }
   ],
   "source": [
    "l = \"791000_6270000.las 864000_6649000.las 871000_6649000.las 877000_6647000.las 923000_6308000.las 791000_6271000.las 870000_6619000.las 875000_6616000.las 887000_6613000.las 923000_6323000.las 861000_6649000.las 871000_6619000.las 875000_6619000.las 888000_6614000.las 924000_6309000.las\"\n",
    "l = l.split(\" \")\n",
    "# MISSING IN DIFFERENTIAL\n",
    "l = [a for a in l if a != \"861000_6649000.las\"]\n",
    "print(l)\n",
    "diff_dir = \"/var/data/cgaydon/data/projet-LHD/IA/Multiclass-Segmentation/data/building_macro_differential_20220204_building_val/test_set/\"\n",
    "preds_dir = \"/var/data/cgaydon/data/projet-LHD/IA/Multiclass-Segmentation/versions/20220204_building_val_models/V0.0/test_preds/\""
   ]
  },
  {
   "cell_type": "code",
   "execution_count": 3,
   "metadata": {},
   "outputs": [
    {
     "name": "stderr",
     "output_type": "stream",
     "text": [
      "100%|██████████| 14/14 [04:18<00:00, 18.50s/it]\n"
     ]
    }
   ],
   "source": [
    "CM = np.zeros(shape=(3,3))\n",
    "CM_nonorm = np.zeros(shape=(3,3))\n",
    "\n",
    "for f in tqdm(l):\n",
    "    diff = laspy.read(diff_dir+f)\n",
    "    diff_pos = np.asarray([diff.x, diff.y, diff.z], dtype=np.float32).transpose()\n",
    "    clf = diff.classification\n",
    "\n",
    "    las = laspy.read(preds_dir+\"predict_\"+f)\n",
    "    las_pos = np.asarray([las.x, las.y, las.z], dtype=np.float32).transpose()\n",
    "\n",
    "    # Start with simple confusion !\n",
    "    assign_idx = knn(\n",
    "        torch.Tensor(las_pos),\n",
    "        torch.Tensor(diff_pos),\n",
    "        k=1,\n",
    "        num_workers=1,\n",
    "    )[1]\n",
    "    probas = las.building[assign_idx]\n",
    "    CM_nonorm += cm(probas >= 0.5, clf -1, labels = [0,1,2]).round(3)\n",
    "    CM += cm(probas >= 0.5, clf -1, labels = [0,1,2], normalize=\"pred\").round(3)\n",
    "CM = CM/len(l)"
   ]
  },
  {
   "cell_type": "code",
   "execution_count": 7,
   "metadata": {},
   "outputs": [],
   "source": []
  },
  {
   "cell_type": "code",
   "execution_count": 8,
   "metadata": {},
   "outputs": [
    {
     "data": {
      "text/plain": [
       "<sklearn.metrics._plot.confusion_matrix.ConfusionMatrixDisplay at 0x7fd5cffb8d90>"
      ]
     },
     "execution_count": 8,
     "metadata": {},
     "output_type": "execute_result"
    },
    {
     "data": {
      "image/png": "[encoded data removed]",
      "text/plain": [
       "<Figure size 432x288 with 2 Axes>"
      ]
     },
     "metadata": {
      "needs_background": "light"
     },
     "output_type": "display_data"
    }
   ],
   "source": [
    "from sklearn.metrics import ConfusionMatrixDisplay\n",
    "cmd = ConfusionMatrixDisplay(CM, display_labels=[\"E+G\",\"G\",\"E\"])\n",
    "cmd.plot()"
   ]
  },
  {
   "cell_type": "code",
   "execution_count": 9,
   "metadata": {},
   "outputs": [
    {
     "data": {
      "text/plain": [
       "array([[0.12192857, 0.743     , 0.60885714],\n",
       "       [0.87807143, 0.257     , 0.39114286],\n",
       "       [0.        , 0.        , 0.        ]])"
      ]
     },
     "execution_count": 9,
     "metadata": {},
     "output_type": "execute_result"
    }
   ],
   "source": [
    "CM"
   ]
  },
  {
   "cell_type": "code",
   "execution_count": 10,
   "metadata": {},
   "outputs": [
    {
     "data": {
      "text/plain": [
       "array([[ 1206482.,   981725.,   209349.],\n",
       "       [18838967.,   448585.,   117770.],\n",
       "       [       0.,        0.,        0.]])"
      ]
     },
     "execution_count": 10,
     "metadata": {},
     "output_type": "execute_result"
    }
   ],
   "source": [
    "CM_nonorm"
   ]
  }
 ],
 "metadata": {
  "interpreter": {
   "hash": "7895eb7c1398c25215feccf0923a7a6b60e25c074d1da3968fb2cc86c7f77abc"
  },
  "kernelspec": {
   "display_name": "Python 3.9.0 64-bit ('validation_module': conda)",
   "language": "python",
   "name": "python3"
  },
  "language_info": {
   "codemirror_mode": {
    "name": "ipython",
    "version": 3
   },
   "file_extension": ".py",
   "mimetype": "text/x-python",
   "name": "python",
   "nbconvert_exporter": "python",
   "pygments_lexer": "ipython3",
   "version": "3.9.0"
  },
  "orig_nbformat": 4
 },
 "nbformat": 4,
 "nbformat_minor": 2
}
