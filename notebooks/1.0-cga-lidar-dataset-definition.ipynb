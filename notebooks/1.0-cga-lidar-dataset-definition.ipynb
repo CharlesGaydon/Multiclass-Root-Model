{
    "cells": [
        {
            "cell_type": "code",
            "execution_count": 28,
            "source": [
                "import torch\n",
                "from torch.utils.data import Dataset\n",
                "from torchvision import datasets\n",
                "from torchvision.transforms import ToTensor\n",
                "import laspy\n",
                "import glob\n",
                "import os.path as osp\n",
                "import numpy as np\n"
            ],
            "outputs": [],
            "metadata": {}
        },
        {
            "cell_type": "code",
            "execution_count": null,
            "source": [
                "\n",
                "class LidarToyDataset(Dataset):\n",
                "    def __init__(self, files, transform=None, target_transform=None):\n",
                "        self.files = files\n",
                "        self.transform = transform\n",
                "        self.target_transform = target_transform\n",
                "\n",
                "    def __len__(self):\n",
                "        return len(self.files)\n",
                "\n",
                "    def __getitem__(self, idx):\n",
                "        filename = self.files[idx]\n",
                "        cloud = laspy.read(filename)\n",
                "\n",
                "        if self.transform:\n",
                "            cloud = self.transform(cloud)\n",
                "        if self.target_transform:\n",
                "            labels = self.target_transform(labels)\n",
                "        return cloud, labels"
            ],
            "outputs": [],
            "metadata": {}
        },
        {
            "cell_type": "code",
            "execution_count": 46,
            "source": [
                "data_dir =\"../data/lidar_toy/\"\n",
                "train_dir_query = osp.join(data_dir, \"train/*.las\")\n",
                "train_files = glob.glob(train_dir_query)\n",
                "filename = train_files[0]\n",
                "las = laspy.read(filename)"
            ],
            "outputs": [],
            "metadata": {}
        },
        {
            "cell_type": "code",
            "execution_count": 58,
            "source": [
                "cloud = np.asarray(\n",
                "    [\n",
                "        las.x - las.x.min(),\n",
                "        las.y - las.y.min(),\n",
                "        las.z,\n",
                "        las.intensity,\n",
                "        las.return_num,\n",
                "        las.num_returns,\n",
                "    ],\n",
                "    dtype=np.float32,\n",
                ")\n",
                "labels = las.classification.astype(np.float32)\n",
                "\n",
                "# get a center of a subtile\n",
                "TILE_WIDTH = 1000\n",
                "SUBTILE_WIDTH = 100\n",
                "subtile_center_xy = (SUBTILE_WIDTH / 2) + np.random.random(size=2) * (\n",
                "    TILE_WIDTH - SUBTILE_WIDTH\n",
                ")\n",
                "# select points of subtile\n",
                "chebyshev_distance = np.max(np.abs(cloud[:2].T - subtile_center_xy), axis=1)\n",
                "mask = chebyshev_distance < (SUBTILE_WIDTH / 2)\n",
                "subcloud = cloud[\n",
                "    :, mask\n",
                "]\n"
            ],
            "outputs": [],
            "metadata": {}
        },
        {
            "cell_type": "code",
            "execution_count": 78,
            "source": [
                "# get the mask based on the randoly chosen center of a subtile\n",
                "TILE_WIDTH = 1000\n",
                "SUBTILE_WIDTH = 100\n",
                "subtile_center_xy = (SUBTILE_WIDTH / 2) + np.random.random(size=2) * (\n",
                "    TILE_WIDTH - SUBTILE_WIDTH\n",
                ")\n",
                "chebyshev_distance = np.max(np.abs(cloud[:2].T - subtile_center_xy), axis=1)\n",
                "mask = chebyshev_distance < (SUBTILE_WIDTH / 2)"
            ],
            "outputs": [],
            "metadata": {}
        },
        {
            "cell_type": "code",
            "execution_count": 76,
            "source": [
                "np.unique(las.classification)"
            ],
            "outputs": [
                {
                    "output_type": "execute_result",
                    "data": {
                        "text/plain": [
                            "array([  1,   2,   6,  19,  20,  21, 104, 110, 112, 114, 115], dtype=uint8)"
                        ]
                    },
                    "metadata": {},
                    "execution_count": 76
                }
            ],
            "metadata": {}
        },
        {
            "cell_type": "code",
            "execution_count": 79,
            "source": [
                "labels = las.classification.astype(np.float32)\n",
                "labels = labels[mask]"
            ],
            "outputs": [],
            "metadata": {}
        },
        {
            "cell_type": "code",
            "execution_count": 81,
            "source": [
                "labels.shape"
            ],
            "outputs": [
                {
                    "output_type": "execute_result",
                    "data": {
                        "text/plain": [
                            "(284104,)"
                        ]
                    },
                    "metadata": {},
                    "execution_count": 81
                }
            ],
            "metadata": {}
        },
        {
            "cell_type": "code",
            "execution_count": 37,
            "source": [
                "las.point_format.dimensions"
            ],
            "outputs": [
                {
                    "output_type": "execute_result",
                    "data": {
                        "text/plain": [
                            "[DimensionInfo(name='X', kind=<DimensionKind.SignedInteger: 0>, num_bits=32, num_elements=1, is_standard=True, description='', offsets=None, scales=None),\n",
                            " DimensionInfo(name='Y', kind=<DimensionKind.SignedInteger: 0>, num_bits=32, num_elements=1, is_standard=True, description='', offsets=None, scales=None),\n",
                            " DimensionInfo(name='Z', kind=<DimensionKind.SignedInteger: 0>, num_bits=32, num_elements=1, is_standard=True, description='', offsets=None, scales=None),\n",
                            " DimensionInfo(name='intensity', kind=<DimensionKind.UnsignedInteger: 1>, num_bits=16, num_elements=1, is_standard=True, description='', offsets=None, scales=None),\n",
                            " DimensionInfo(name='return_number', kind=<DimensionKind.BitField: 3>, num_bits=4, num_elements=1, is_standard=True, description='', offsets=None, scales=None),\n",
                            " DimensionInfo(name='number_of_returns', kind=<DimensionKind.BitField: 3>, num_bits=4, num_elements=1, is_standard=True, description='', offsets=None, scales=None),\n",
                            " DimensionInfo(name='synthetic', kind=<DimensionKind.BitField: 3>, num_bits=1, num_elements=1, is_standard=True, description='', offsets=None, scales=None),\n",
                            " DimensionInfo(name='key_point', kind=<DimensionKind.BitField: 3>, num_bits=1, num_elements=1, is_standard=True, description='', offsets=None, scales=None),\n",
                            " DimensionInfo(name='withheld', kind=<DimensionKind.BitField: 3>, num_bits=1, num_elements=1, is_standard=True, description='', offsets=None, scales=None),\n",
                            " DimensionInfo(name='overlap', kind=<DimensionKind.BitField: 3>, num_bits=1, num_elements=1, is_standard=True, description='', offsets=None, scales=None),\n",
                            " DimensionInfo(name='scanner_channel', kind=<DimensionKind.BitField: 3>, num_bits=2, num_elements=1, is_standard=True, description='', offsets=None, scales=None),\n",
                            " DimensionInfo(name='scan_direction_flag', kind=<DimensionKind.BitField: 3>, num_bits=1, num_elements=1, is_standard=True, description='', offsets=None, scales=None),\n",
                            " DimensionInfo(name='edge_of_flight_line', kind=<DimensionKind.BitField: 3>, num_bits=1, num_elements=1, is_standard=True, description='', offsets=None, scales=None),\n",
                            " DimensionInfo(name='classification', kind=<DimensionKind.UnsignedInteger: 1>, num_bits=8, num_elements=1, is_standard=True, description='', offsets=None, scales=None),\n",
                            " DimensionInfo(name='user_data', kind=<DimensionKind.UnsignedInteger: 1>, num_bits=8, num_elements=1, is_standard=True, description='', offsets=None, scales=None),\n",
                            " DimensionInfo(name='scan_angle', kind=<DimensionKind.SignedInteger: 0>, num_bits=16, num_elements=1, is_standard=True, description='', offsets=None, scales=None),\n",
                            " DimensionInfo(name='point_source_id', kind=<DimensionKind.UnsignedInteger: 1>, num_bits=16, num_elements=1, is_standard=True, description='', offsets=None, scales=None),\n",
                            " DimensionInfo(name='gps_time', kind=<DimensionKind.FloatingPoint: 2>, num_bits=64, num_elements=1, is_standard=True, description='', offsets=None, scales=None),\n",
                            " DimensionInfo(name='red', kind=<DimensionKind.UnsignedInteger: 1>, num_bits=16, num_elements=1, is_standard=True, description='', offsets=None, scales=None),\n",
                            " DimensionInfo(name='green', kind=<DimensionKind.UnsignedInteger: 1>, num_bits=16, num_elements=1, is_standard=True, description='', offsets=None, scales=None),\n",
                            " DimensionInfo(name='blue', kind=<DimensionKind.UnsignedInteger: 1>, num_bits=16, num_elements=1, is_standard=True, description='', offsets=None, scales=None),\n",
                            " DimensionInfo(name='nir', kind=<DimensionKind.UnsignedInteger: 1>, num_bits=16, num_elements=1, is_standard=True, description='', offsets=None, scales=None)]"
                        ]
                    },
                    "metadata": {},
                    "execution_count": 37
                }
            ],
            "metadata": {}
        }
    ],
    "metadata": {
        "orig_nbformat": 4,
        "language_info": {
            "name": "python",
            "version": "3.9.0",
            "mimetype": "text/x-python",
            "codemirror_mode": {
                "name": "ipython",
                "version": 3
            },
            "pygments_lexer": "ipython3",
            "nbconvert_exporter": "python",
            "file_extension": ".py"
        },
        "kernelspec": {
            "name": "python3",
            "display_name": "Python 3.9.0 64-bit ('validation_module': conda)"
        },
        "interpreter": {
            "hash": "00f061fa2e3ad68084a4b46e33b54c46d55f8cbea83309853859453c41066dba"
        }
    },
    "nbformat": 4,
    "nbformat_minor": 2
}
